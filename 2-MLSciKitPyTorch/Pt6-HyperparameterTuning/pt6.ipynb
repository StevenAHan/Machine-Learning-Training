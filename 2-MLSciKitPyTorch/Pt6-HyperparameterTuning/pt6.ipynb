{
 "cells": [
  {
   "cell_type": "markdown",
   "id": "110481a8",
   "metadata": {},
   "source": [
    "## Streamlining workflows with pipelines"
   ]
  },
  {
   "cell_type": "code",
   "execution_count": 1,
   "id": "d781047f",
   "metadata": {},
   "outputs": [
    {
     "name": "stdout",
     "output_type": "stream",
     "text": [
      "         0  1      2      3       4       5        6        7       8   \\\n",
      "0    842302  M  17.99  10.38  122.80  1001.0  0.11840  0.27760  0.3001   \n",
      "1    842517  M  20.57  17.77  132.90  1326.0  0.08474  0.07864  0.0869   \n",
      "2  84300903  M  19.69  21.25  130.00  1203.0  0.10960  0.15990  0.1974   \n",
      "3  84348301  M  11.42  20.38   77.58   386.1  0.14250  0.28390  0.2414   \n",
      "4  84358402  M  20.29  14.34  135.10  1297.0  0.10030  0.13280  0.1980   \n",
      "\n",
      "        9   ...     22     23      24      25      26      27      28      29  \\\n",
      "0  0.14710  ...  25.38  17.33  184.60  2019.0  0.1622  0.6656  0.7119  0.2654   \n",
      "1  0.07017  ...  24.99  23.41  158.80  1956.0  0.1238  0.1866  0.2416  0.1860   \n",
      "2  0.12790  ...  23.57  25.53  152.50  1709.0  0.1444  0.4245  0.4504  0.2430   \n",
      "3  0.10520  ...  14.91  26.50   98.87   567.7  0.2098  0.8663  0.6869  0.2575   \n",
      "4  0.10430  ...  22.54  16.67  152.20  1575.0  0.1374  0.2050  0.4000  0.1625   \n",
      "\n",
      "       30       31  \n",
      "0  0.4601  0.11890  \n",
      "1  0.2750  0.08902  \n",
      "2  0.3613  0.08758  \n",
      "3  0.6638  0.17300  \n",
      "4  0.2364  0.07678  \n",
      "\n",
      "[5 rows x 32 columns]\n"
     ]
    }
   ],
   "source": [
    "import pandas as pd\n",
    "\n",
    "# Load the Breast Cancer Wisconsin dataset from UCI ML repository\n",
    "# This dataset has no header row, so we set header=None\n",
    "df = pd.read_csv(\n",
    "    'https://archive.ics.uci.edu/ml/'\n",
    "    'machine-learning-databases/breast-cancer-wisconsin/wdbc.data',\n",
    "    header=None\n",
    ")\n",
    "\n",
    "# Preview first few rows\n",
    "print(df.head())"
   ]
  },
  {
   "cell_type": "code",
   "execution_count": 2,
   "id": "89ee5f4f",
   "metadata": {},
   "outputs": [
    {
     "name": "stdout",
     "output_type": "stream",
     "text": [
      "['B' 'M']\n"
     ]
    }
   ],
   "source": [
    "# Next assign the 30 features to NumPy array and using LabelEncoder, we convert labels from string representation to integers.\n",
    "from sklearn.preprocessing import LabelEncoder\n",
    "\n",
    "# Separate features (columns 2 onward) and labels (column 1)\n",
    "X = df.loc[:, 2:].values   # features (30 real-valued measurements)\n",
    "y = df.loc[:, 1].values    # target labels (M or B)\n",
    "\n",
    "# Encode string labels into integers\n",
    "le = LabelEncoder()\n",
    "y = le.fit_transform(y)\n",
    "\n",
    "# Show the mapping between original labels and encoded values\n",
    "print(le.classes_)"
   ]
  },
  {
   "cell_type": "code",
   "execution_count": 3,
   "id": "3ef6f26d",
   "metadata": {},
   "outputs": [
    {
     "data": {
      "text/plain": [
       "array([1, 0])"
      ]
     },
     "execution_count": 3,
     "metadata": {},
     "output_type": "execute_result"
    }
   ],
   "source": [
    "# Double check the mapping taht malignant (M) is 1 and benign (B) is 0\n",
    "le.transform(['M', 'B'])"
   ]
  },
  {
   "cell_type": "code",
   "execution_count": 4,
   "id": "3e4cad8b",
   "metadata": {},
   "outputs": [],
   "source": [
    "# Before constructing first model pipeline, divide the dataset into training and test sets.\n",
    "from sklearn.model_selection import train_test_split\n",
    "\n",
    "# Split data into training and test sets\n",
    "# - test_size=0.20 → 20% of the data goes into the test set\n",
    "# - stratify=y → preserves the same proportion of benign/malignant cases in train & test\n",
    "# - random_state=1 → ensures reproducibility of the split\n",
    "X_train, X_test, y_train, y_test = train_test_split(\n",
    "    X, y,\n",
    "    test_size=0.20,\n",
    "    stratify=y,\n",
    "    random_state=1\n",
    ")"
   ]
  },
  {
   "cell_type": "code",
   "execution_count": 5,
   "id": "f426602c",
   "metadata": {},
   "outputs": [
    {
     "name": "stdout",
     "output_type": "stream",
     "text": [
      "Test accuracy: 0.956\n"
     ]
    }
   ],
   "source": [
    "# Do standardization, PCA, and Logistic Regression in a single pipeline\n",
    "from sklearn.preprocessing import StandardScaler\n",
    "from sklearn.decomposition import PCA\n",
    "from sklearn.linear_model import LogisticRegression\n",
    "from sklearn.pipeline import make_pipeline\n",
    "\n",
    "# Create a pipeline with 3 steps:\n",
    "# 1. Standardize the features (StandardScaler)\n",
    "# 2. Reduce dimensionality to 2 components (PCA)\n",
    "# 3. Train a Logistic Regression classifier\n",
    "pipe_lr = make_pipeline( # make_pipeline takes an arbitrary number of steps\n",
    "    StandardScaler(),\n",
    "    PCA(n_components=2),\n",
    "    LogisticRegression() # if we want to use pipeline for prediction tasks, last pipeline element must be an estimator\n",
    ")\n",
    "\n",
    "# Fit the model pipeline on the training data\n",
    "pipe_lr.fit(X_train, y_train) # during this, all intermediate steps are executed in sequence, with .fit() then .transform() called on each step except the last one, where .fit() is called directly on the estimator\n",
    "\n",
    "# Predict the labels for the test set\n",
    "y_pred = pipe_lr.predict(X_test) # during this, all intermediary steps call .transform() method, and the final step calls .predict() method\n",
    "\n",
    "# Evaluate the accuracy of the model on the test set\n",
    "test_acc = pipe_lr.score(X_test, y_test)\n",
    "print(f'Test accuracy: {test_acc:.3f}')"
   ]
  },
  {
   "cell_type": "markdown",
   "id": "d3da60c9",
   "metadata": {},
   "source": [
    "## Cross-validation: Stratified K-Folds"
   ]
  },
  {
   "cell_type": "code",
   "execution_count": 6,
   "id": "e5cebc6c",
   "metadata": {},
   "outputs": [
    {
     "name": "stdout",
     "output_type": "stream",
     "text": [
      "Fold: 01, Class distr.: [256 153], Acc.: 0.935\n",
      "Fold: 02, Class distr.: [256 153], Acc.: 0.935\n",
      "Fold: 03, Class distr.: [256 153], Acc.: 0.957\n",
      "Fold: 04, Class distr.: [256 153], Acc.: 0.957\n",
      "Fold: 05, Class distr.: [256 153], Acc.: 0.935\n",
      "Fold: 06, Class distr.: [257 153], Acc.: 0.956\n",
      "Fold: 07, Class distr.: [257 153], Acc.: 0.978\n",
      "Fold: 08, Class distr.: [257 153], Acc.: 0.933\n",
      "Fold: 09, Class distr.: [257 153], Acc.: 0.956\n",
      "Fold: 10, Class distr.: [257 153], Acc.: 0.956\n"
     ]
    }
   ],
   "source": [
    "import numpy as np\n",
    "from sklearn.model_selection import StratifiedKFold\n",
    "\n",
    "# Create a stratified k-fold cross-validator with 10 folds\n",
    "# Stratification ensures that the class distribution in each fold\n",
    "# matches the overall class distribution in the dataset.\n",
    "kfold = StratifiedKFold(n_splits=10).split(X_train, y_train)\n",
    "\n",
    "scores = []\n",
    "\n",
    "# Loop through each fold (train/test split)\n",
    "for k, (train, test) in enumerate(kfold):\n",
    "    # Fit the pipeline (scaler + PCA + logistic regression)\n",
    "    # using the training indices of this fold\n",
    "    pipe_lr.fit(X_train[train], y_train[train])\n",
    "    \n",
    "    # Evaluate accuracy on the validation/test indices of this fold\n",
    "    score = pipe_lr.score(X_train[test], y_train[test])\n",
    "    scores.append(score)\n",
    "    \n",
    "    # Print fold number, class distribution in training set,\n",
    "    # and accuracy of this fold\n",
    "    print(\n",
    "        f'Fold: {k+1:02d}, '\n",
    "        f'Class distr.: {np.bincount(y_train[train])}, '\n",
    "        f'Acc.: {score:.3f}'\n",
    "    )"
   ]
  },
  {
   "cell_type": "code",
   "execution_count": 7,
   "id": "50a25133",
   "metadata": {},
   "outputs": [
    {
     "name": "stdout",
     "output_type": "stream",
     "text": [
      "CV accuracy scores: [0.93478261 0.93478261 0.95652174 0.95652174 0.93478261 0.95555556\n",
      " 0.97777778 0.93333333 0.95555556 0.95555556]\n",
      "CV accuracy: 0.950 +/- 0.014\n"
     ]
    }
   ],
   "source": [
    "# Using scikit-learn's k-fold cross-validator scorer, allowing less verbose output\n",
    "from sklearn.model_selection import cross_val_score\n",
    "\n",
    "# Perform 10-fold cross-validation on the training data\n",
    "# estimator = our pipeline (scaler + PCA + logistic regression)\n",
    "# cv=10 means 10 folds\n",
    "# n_jobs=1 means run on a single CPU core (could set -1 to use all cores)\n",
    "scores = cross_val_score(estimator=pipe_lr, \n",
    "                         X=X_train,\n",
    "                         y=y_train,\n",
    "                         cv=10,\n",
    "                         n_jobs=1)# very useful feature of cross_val_score is that the folds can be evaluated across multiple CPUs on machine, as determined by n_jobs parameter; setting n_jobs=-1 will use all available CPU cores, speeding up the process significantly\n",
    "\n",
    "# Print the accuracy score for each fold\n",
    "print(f'CV accuracy scores: {scores}')\n",
    "\n",
    "# Print the mean accuracy and the standard deviation\n",
    "# Mean = overall performance\n",
    "# Std = how much the performance varied across folds\n",
    "print(f'CV accuracy: {np.mean(scores):.3f} '\n",
    "      f'+/- {np.std(scores):.3f}')"
   ]
  },
  {
   "cell_type": "markdown",
   "id": "d4782083",
   "metadata": {},
   "source": [
    "## Debugging algos with learning and validation curves"
   ]
  },
  {
   "cell_type": "markdown",
   "id": "1c9a0c0a",
   "metadata": {},
   "source": [
    "### Learning Curves to diagnose bias and variance"
   ]
  },
  {
   "cell_type": "code",
   "execution_count": 8,
   "id": "de70efe4",
   "metadata": {},
   "outputs": [
    {
     "data": {
      "image/png": "[encoded data removed]",
      "text/plain": [
       "<Figure size 640x480 with 1 Axes>"
      ]
     },
     "metadata": {},
     "output_type": "display_data"
    }
   ],
   "source": [
    "import numpy as np\n",
    "import matplotlib.pyplot as plt\n",
    "from sklearn.model_selection import learning_curve\n",
    "from sklearn.pipeline import make_pipeline\n",
    "from sklearn.preprocessing import StandardScaler\n",
    "from sklearn.linear_model import LogisticRegression\n",
    "\n",
    "# Build a pipeline:\n",
    "# 1) StandardScaler standardizes features (zero mean, unit variance)\n",
    "# 2) LogisticRegression is the classifier\n",
    "pipe_lr = make_pipeline(\n",
    "    StandardScaler(),\n",
    "    LogisticRegression(penalty='l2', max_iter=10000)\n",
    ")\n",
    "\n",
    "# Compute learning curve data:\n",
    "# - train_sizes: fractions of training set used (10% to 100%)\n",
    "# - train_scores: cross-validated training accuracy\n",
    "# - test_scores: cross-validated validation accuracy\n",
    "train_sizes, train_scores, test_scores = learning_curve(\n",
    "    estimator=pipe_lr,\n",
    "    X=X_train,          # training features\n",
    "    y=y_train,          # training labels\n",
    "    train_sizes=np.linspace(0.1, 1.0, 10),  # 10 points between 10% and 100%\n",
    "    cv=10,              # 10-fold cross-validation\n",
    "    n_jobs=1            # run in single process\n",
    ")\n",
    "\n",
    "# Compute mean & std across folds for plotting with error bands\n",
    "train_mean = np.mean(train_scores, axis=1)\n",
    "train_std = np.std(train_scores, axis=1)\n",
    "test_mean = np.mean(test_scores, axis=1)\n",
    "test_std = np.std(test_scores, axis=1)\n",
    "\n",
    "# Plot training accuracy curve\n",
    "plt.plot(train_sizes, train_mean,\n",
    "         color='blue', marker='o', markersize=5,\n",
    "         label='Training accuracy')\n",
    "plt.fill_between(train_sizes,\n",
    "                 train_mean + train_std,\n",
    "                 train_mean - train_std,\n",
    "                 alpha=0.15, color='blue')  # shaded error band\n",
    "\n",
    "# Plot validation accuracy curve\n",
    "plt.plot(train_sizes, test_mean,\n",
    "         color='green', linestyle='--', marker='s', markersize=5,\n",
    "         label='Validation accuracy')\n",
    "plt.fill_between(train_sizes,\n",
    "                 test_mean + test_std,\n",
    "                 test_mean - test_std,\n",
    "                 alpha=0.15, color='green')  # shaded error band\n",
    "\n",
    "# Final plot formatting\n",
    "plt.grid()\n",
    "plt.xlabel('Number of training examples')\n",
    "plt.ylabel('Accuracy')\n",
    "plt.legend(loc='lower right')\n",
    "plt.ylim([0.8, 1.03])  # lock y-axis range for clarity\n",
    "plt.tight_layout()\n",
    "plt.show() # generally as training examples increase, training accuracy increases and validation accuracy stabilizes; if training accuracy is high but validation accuracy is low, it indicates overfitting; if both are low, it indicates underfitting\n",
    "# after 250 examples it seems to be pretty good, but less than that it is seemingly overfitting"
   ]
  },
  {
   "cell_type": "markdown",
   "id": "02e093ea",
   "metadata": {},
   "source": [
    "### Validation curves to address overfitting and underfitting"
   ]
  },
  {
   "cell_type": "code",
   "execution_count": 9,
   "id": "d3a292d3",
   "metadata": {},
   "outputs": [
    {
     "data": {
      "image/png": "[encoded data removed]",
      "text/plain": [
       "<Figure size 640x480 with 1 Axes>"
      ]
     },
     "metadata": {},
     "output_type": "display_data"
    }
   ],
   "source": [
    "import numpy as np\n",
    "import matplotlib.pyplot as plt\n",
    "from sklearn.model_selection import validation_curve\n",
    "\n",
    "# Define the range of values for hyperparameter C (inverse of regularization strength)\n",
    "param_range = [0.001, 0.01, 0.1, 1.0, 10.0, 100.0]\n",
    "\n",
    "# Compute training and validation scores for different C values\n",
    "# - validation_curve runs cross-validation internally\n",
    "# - param_name matches the LogisticRegression \"C\" inside the pipeline\n",
    "train_scores, test_scores = validation_curve(\n",
    "    estimator=pipe_lr,                 # pipeline (scaler + logistic regression)\n",
    "    X=X_train,\n",
    "    y=y_train,\n",
    "    param_name='logisticregression__C',  # name of parameter inside pipeline\n",
    "    param_range=param_range,\n",
    "    cv=10                              # 10-fold CV\n",
    ")\n",
    "\n",
    "# Calculate mean and std across folds for plotting\n",
    "train_mean = np.mean(train_scores, axis=1)\n",
    "train_std = np.std(train_scores, axis=1)\n",
    "test_mean = np.mean(test_scores, axis=1)\n",
    "test_std = np.std(test_scores, axis=1)\n",
    "\n",
    "# Plot training accuracy curve\n",
    "plt.plot(param_range, train_mean,\n",
    "         color='blue', marker='o', markersize=5,\n",
    "         label='Training accuracy')\n",
    "plt.fill_between(param_range,\n",
    "                 train_mean + train_std,\n",
    "                 train_mean - train_std,\n",
    "                 alpha=0.15, color='blue')\n",
    "\n",
    "# Plot validation accuracy curve\n",
    "plt.plot(param_range, test_mean,\n",
    "         color='green', linestyle='--', marker='s', markersize=5,\n",
    "         label='Validation accuracy')\n",
    "plt.fill_between(param_range,\n",
    "                 test_mean + test_std,\n",
    "                 test_mean - test_std,\n",
    "                 alpha=0.15, color='green')\n",
    "\n",
    "# Final formatting\n",
    "plt.grid()\n",
    "plt.xscale('log')  # log scale because C values vary by orders of magnitude\n",
    "plt.legend(loc='lower right')\n",
    "plt.xlabel('Parameter C (inverse regularization strength)')\n",
    "plt.ylabel('Accuracy')\n",
    "plt.ylim([0.8, 1.0])\n",
    "plt.tight_layout()\n",
    "plt.show() # can see that there is a sweet sport somewhere between 0.1 and 1.0, where validation accuracy is highest; if C is too small, it leads to underfitting (high bias), if too large, it leads to overfitting (high variance); the best value of C is around 0.1-1.0, where validation accuracy is maximized"
   ]
  },
  {
   "cell_type": "markdown",
   "id": "fd54d990",
   "metadata": {},
   "source": [
    "### Fine-tuning ML with grid search"
   ]
  },
  {
   "cell_type": "code",
   "execution_count": 10,
   "id": "a6aee140",
   "metadata": {},
   "outputs": [
    {
     "name": "stdout",
     "output_type": "stream",
     "text": [
      "0.9846859903381642\n",
      "{'svc__C': 100.0, 'svc__gamma': 0.001, 'svc__kernel': 'rbf'}\n"
     ]
    }
   ],
   "source": [
    "import numpy as np\n",
    "import matplotlib.pyplot as plt\n",
    "from sklearn.model_selection import GridSearchCV\n",
    "from sklearn.svm import SVC\n",
    "from sklearn.pipeline import make_pipeline\n",
    "from sklearn.preprocessing import StandardScaler\n",
    "\n",
    "# Define an SVM pipeline:\n",
    "# 1) Standardizes features (important for SVM performance)\n",
    "# 2) Applies an SVM classifier\n",
    "pipe_svc = make_pipeline(StandardScaler(), SVC(random_state=1))\n",
    "\n",
    "# Range of parameters to search over\n",
    "param_range = [0.0001, 0.001, 0.01, 0.1,\n",
    "               1.0, 10.0, 100.0, 1000.0]\n",
    "\n",
    "# Grid of hyperparameters to try:\n",
    "# - linear kernel: only vary C\n",
    "# - RBF kernel: vary both C and gamma\n",
    "param_grid = [\n",
    "    {'svc__C': param_range, 'svc__kernel': ['linear']},\n",
    "    {'svc__C': param_range, 'svc__gamma': param_range, 'svc__kernel': ['rbf']}\n",
    "]\n",
    "\n",
    "# Perform 10-fold cross-validation for each parameter combination\n",
    "# scoring='accuracy' means we rank models by accuracy\n",
    "# refit=True retrains the best model on the full training set\n",
    "# n_jobs=-1 uses all CPU cores\n",
    "gs = GridSearchCV(estimator=pipe_svc,\n",
    "                  param_grid=param_grid,\n",
    "                  scoring='accuracy',\n",
    "                  cv=10, # defines k in k-fold cross-validation\n",
    "                  refit=True,\n",
    "                  n_jobs=-1) # can change to None for single core, or -1 for all cores\n",
    "\n",
    "# Fit the grid search object on the training data\n",
    "gs = gs.fit(X_train, y_train)\n",
    "\n",
    "# Print the mean CV accuracy of the best model\n",
    "print(gs.best_score_)\n",
    "\n",
    "# Print the hyperparameters of the best model\n",
    "print(gs.best_params_)"
   ]
  },
  {
   "cell_type": "code",
   "execution_count": 11,
   "id": "d79167e4",
   "metadata": {},
   "outputs": [
    {
     "name": "stdout",
     "output_type": "stream",
     "text": [
      "Test accuracy: 0.974\n"
     ]
    }
   ],
   "source": [
    "# Test the best model hyperparameters on the test set\n",
    "clf = gs.best_estimator_           # extract the best model (RBF SVM with optimal C & gamma)\n",
    "clf.fit(X_train, y_train)          # refit it on the full training set # not necessary if refit=True in GridSearchCV\n",
    "print(f'Test accuracy: {clf.score(X_test, y_test):.3f}')  # evaluate on unseen test set"
   ]
  },
  {
   "cell_type": "markdown",
   "id": "f25e1814",
   "metadata": {},
   "source": [
    "### Randomized search for hyperparameter optimization"
   ]
  },
  {
   "cell_type": "code",
   "execution_count": 12,
   "id": "ed995a97",
   "metadata": {},
   "outputs": [],
   "source": [
    "import scipy.stats  # useful for probability distributions (e.g. uniform, loguniform)\n",
    "                    # often used with RandomizedSearchCV to sample hyperparameters\n",
    "\n",
    "# Define a range of values for hyperparameters (like C or gamma in SVMs)\n",
    "# These values span very small (0.0001) to very large (1000.0)\n",
    "# The idea is to search across a wide scale to find the best performing setting\n",
    "param_range = [0.0001, 0.001, 0.01, 0.1,\n",
    "               1.0, 10.0, 100.0, 1000.0]"
   ]
  },
  {
   "cell_type": "code",
   "execution_count": 13,
   "id": "d5a0ed96",
   "metadata": {},
   "outputs": [],
   "source": [
    "# loguniform distribution is useful for hyperparameters that can vary by orders of magnitude\n",
    "param_range = scipy.stats.loguniform(0.0001, 1000.0)"
   ]
  },
  {
   "cell_type": "code",
   "execution_count": 14,
   "id": "ccacaddc",
   "metadata": {},
   "outputs": [
    {
     "name": "stdout",
     "output_type": "stream",
     "text": [
      "[8.30145146e-02 1.10222804e+01 1.00184520e-04 1.30715777e-02\n",
      " 1.06485687e-03 4.42965766e-04 2.01289666e-03 2.62376594e-02\n",
      " 5.98924832e-02 5.91176467e-01]\n"
     ]
    }
   ],
   "source": [
    "import numpy as np\n",
    "from scipy.stats import loguniform\n",
    "\n",
    "# Seed for reproducibility\n",
    "np.random.seed(1)\n",
    "\n",
    "# Sample 10 random values from this distribution\n",
    "samples = param_range.rvs(10)\n",
    "print(samples)"
   ]
  },
  {
   "cell_type": "code",
   "execution_count": null,
   "id": "0429cc48",
   "metadata": {},
   "outputs": [
    {
     "name": "stdout",
     "output_type": "stream",
     "text": [
      "0.9780676328502416\n",
      "{'svc__C': np.float64(0.05971247755848463), 'svc__kernel': 'linear'}\n"
     ]
    }
   ],
   "source": [
    "# Usage very similar to GridSearchCV, but instead of exhaustively searching all combinations,can use a distrbutions for specifying parameter ranges and numbe of iterations\n",
    "import numpy as np\n",
    "from sklearn.model_selection import RandomizedSearchCV\n",
    "from sklearn.pipeline import make_pipeline\n",
    "from sklearn.svm import SVC\n",
    "from sklearn.preprocessing import StandardScaler\n",
    "import scipy.stats\n",
    "\n",
    "# Define distributions for hyperparameters instead of fixed lists.\n",
    "# Here we use loguniform to sample values across several orders of magnitude.\n",
    "param_range = scipy.stats.loguniform(1e-4, 1e3)\n",
    "\n",
    "# Create a pipeline: first scale features, then train SVM\n",
    "pipe_svc = make_pipeline(StandardScaler(),\n",
    "                         SVC(random_state=1))\n",
    "\n",
    "# Define parameter distributions to explore\n",
    "# - For linear kernel: only 'C' is relevant\n",
    "# - For rbf kernel: both 'C' and 'gamma' matter\n",
    "param_grid = [\n",
    "    {'svc__C': param_range, 'svc__kernel': ['linear']},\n",
    "    {'svc__C': param_range, 'svc__gamma': param_range, 'svc__kernel': ['rbf']}\n",
    "]\n",
    "\n",
    "# RandomizedSearchCV:\n",
    "# - Samples a fixed number of random combinations (n_iter=20 here)\n",
    "# - Much faster than GridSearchCV on large spaces\n",
    "rs = RandomizedSearchCV(estimator=pipe_svc,\n",
    "                        param_distributions=param_grid,\n",
    "                        scoring='accuracy',\n",
    "                        refit=True,      # automatically refits the best model\n",
    "                        n_iter=20,       # try 20 random parameter settings\n",
    "                        cv=10,           # 10-fold cross-validation\n",
    "                        random_state=1,  # reproducibility\n",
    "                        n_jobs=-1)       # run in parallel\n",
    "\n",
    "# Fit randomized search on training data\n",
    "rs = rs.fit(X_train, y_train)\n",
    "\n",
    "# Report the best mean cross-validation accuracy found\n",
    "print(rs.best_score_)\n",
    "\n",
    "# Report the best hyperparameters found\n",
    "print(rs.best_params_)\n"
   ]
  },
  {
   "cell_type": "markdown",
   "id": "487a5ff3",
   "metadata": {},
   "source": [
    "#### More resource-efficient hyperparamter search with successive halving"
   ]
  },
  {
   "cell_type": "code",
   "execution_count": 16,
   "id": "9a7cf1c8",
   "metadata": {},
   "outputs": [],
   "source": [
    "# Taking randomized search a step further, we can use successive halving to efficiently narrow down the best hyperparameters\n",
    "from sklearn.experimental import enable_halving_search_cv"
   ]
  },
  {
   "cell_type": "code",
   "execution_count": 17,
   "id": "d73059f2",
   "metadata": {},
   "outputs": [],
   "source": [
    "from sklearn.model_selection import HalvingRandomSearchCV\n",
    "\n",
    "hs = HalvingRandomSearchCV(\n",
    "    estimator=pipe_svc,               # our pipeline: scaling + SVC\n",
    "    param_distributions=param_grid,   # random distributions for hyperparameters\n",
    "    n_candidates='exhaust',           # try all candidates initially\n",
    "    resource='n_samples',             # gradually increase training set size\n",
    "    factor=1.5,                       # how much to increase resources each iteration\n",
    "    random_state=1,                   # reproducibility\n",
    "    n_jobs=-1                         # parallel processing\n",
    ")"
   ]
  },
  {
   "cell_type": "code",
   "execution_count": null,
   "id": "94e60b27",
   "metadata": {},
   "outputs": [
    {
     "name": "stdout",
     "output_type": "stream",
     "text": [
      "Best CV score: 0.9617647058823529\n",
      "Best hyperparameters: {'svc__C': np.float64(4.934834261073333), 'svc__kernel': 'linear'}\n",
      "Test accuracy: 0.982\n"
     ]
    }
   ],
   "source": [
    "# Then carry out the search like usual\n",
    "\n",
    "# Fit the halving randomized search\n",
    "hs = hs.fit(X_train, y_train)\n",
    "\n",
    "# Print best results\n",
    "print(\"Best CV score:\", hs.best_score_)\n",
    "print(\"Best hyperparameters:\", hs.best_params_)\n",
    "\n",
    "# Evaluate on test set\n",
    "print(f\"Test accuracy: {hs.score(X_test, y_test):.3f}\") # Yields slightly better results on test set than RandomizedSearchCV, as it narrows down the search space more efficiently"
   ]
  },
  {
   "cell_type": "markdown",
   "id": "e01a4ea5",
   "metadata": {},
   "source": [
    "### Algo selection with nested cross-validation"
   ]
  },
  {
   "cell_type": "code",
   "execution_count": 19,
   "id": "56b5e393",
   "metadata": {},
   "outputs": [
    {
     "name": "stdout",
     "output_type": "stream",
     "text": [
      "CV accuracy: 0.974 +/- 0.015\n"
     ]
    }
   ],
   "source": [
    "# Can perform nested cross-validation with code as follows\n",
    "# Define parameter grid:\n",
    "# 1) Linear kernel: vary only C\n",
    "# 2) RBF kernel: vary C and gamma\n",
    "param_range = [0.0001, 0.001, 0.01, 0.1,\n",
    "               1.0, 10.0, 100.0, 1000.0]\n",
    "param_grid = [\n",
    "    {'svc__C': param_range, 'svc__kernel': ['linear']},\n",
    "    {'svc__C': param_range, 'svc__gamma': param_range, 'svc__kernel': ['rbf']}\n",
    "]\n",
    "\n",
    "# GridSearchCV: searches over param_grid using cross-validation\n",
    "# cv=2 here means inner CV folds for tuning during grid search\n",
    "gs = GridSearchCV(estimator=pipe_svc,\n",
    "                  param_grid=param_grid,\n",
    "                  scoring='accuracy',\n",
    "                  cv=2)\n",
    "\n",
    "# cross_val_score runs outer cross-validation to evaluate generalization\n",
    "# Note: we pass `gs` (the grid search object) as the estimator\n",
    "# so hyperparameter tuning is done inside each CV split.\n",
    "scores = cross_val_score(gs, X_train, y_train,\n",
    "                         scoring='accuracy', cv=5)\n",
    "\n",
    "# Report mean accuracy and standard deviation across outer folds\n",
    "print(f'CV accuracy: {np.mean(scores):.3f} '\n",
    "      f'+/- {np.std(scores):.3f}')"
   ]
  },
  {
   "cell_type": "code",
   "execution_count": null,
   "id": "08a7ee93",
   "metadata": {},
   "outputs": [
    {
     "name": "stdout",
     "output_type": "stream",
     "text": [
      "CV accuracy: 0.934 +/- 0.016\n"
     ]
    }
   ],
   "source": [
    "# Using it to compare SVM model to simple decision tree classifier where we only tune its depth parameter\n",
    "from sklearn.tree import DecisionTreeClassifier\n",
    "# Set up GridSearchCV to tune the max_depth parameter of DecisionTreeClassifier\n",
    "gs = GridSearchCV(\n",
    "    estimator=DecisionTreeClassifier(random_state=0),  # Decision tree model\n",
    "    param_grid=[{'max_depth': [1, 2, 3, 4, 5, 6, 7, None]}],  # values to try for max_depth\n",
    "    scoring='accuracy',  # metric to optimize\n",
    "    cv=2  # inner cross-validation folds for hyperparameter tuning\n",
    ")\n",
    "\n",
    "# Use cross_val_score to do outer cross-validation with 5 folds\n",
    "# This runs the grid search inside each fold (nested CV)\n",
    "scores = cross_val_score(gs, X_train, y_train,\n",
    "                         scoring='accuracy', cv=5)\n",
    "\n",
    "# Print the mean accuracy and standard deviation across the 5 folds\n",
    "print(f'CV accuracy: {np.mean(scores):.3f} +/- {np.std(scores):.3f}') # as we can see, SVM is notably better than decision tree and so is probably better choice"
   ]
  },
  {
   "cell_type": "markdown",
   "id": "649602dc",
   "metadata": {},
   "source": [
    "## Looking at different peroformance evaluation metrics"
   ]
  },
  {
   "cell_type": "code",
   "execution_count": null,
   "id": "abea11bf",
   "metadata": {},
   "outputs": [],
   "source": []
  }
 ],
 "metadata": {
  "kernelspec": {
   "display_name": ".conda",
   "language": "python",
   "name": "python3"
  },
  "language_info": {
   "codemirror_mode": {
    "name": "ipython",
    "version": 3
   },
   "file_extension": ".py",
   "mimetype": "text/x-python",
   "name": "python",
   "nbconvert_exporter": "python",
   "pygments_lexer": "ipython3",
   "version": "3.12.11"
  }
 },
 "nbformat": 4,
 "nbformat_minor": 5
}
