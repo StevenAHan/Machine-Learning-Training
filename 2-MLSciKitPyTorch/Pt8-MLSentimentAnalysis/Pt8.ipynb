{
 "cells": [
  {
   "cell_type": "markdown",
   "id": "b72516e2",
   "metadata": {},
   "source": [
    "## IMDb Sentiment Analysis"
   ]
  },
  {
   "cell_type": "code",
   "execution_count": 1,
   "id": "6800db18",
   "metadata": {},
   "outputs": [],
   "source": [
    "# ONE TIME SETUP SCRIPT\n",
    "# Obtain the dataset, unzip from dataset folder in local\n",
    "\n",
    "# import tarfile\n",
    "# with tarfile.open('dataset/aclImdb_v1.tar.gz', 'r:gz') as tar:\n",
    "#     tar.extractall()"
   ]
  },
  {
   "cell_type": "code",
   "execution_count": 4,
   "id": "1f128ec9",
   "metadata": {},
   "outputs": [],
   "source": [
    "# Preprocess dataset into Pandas DataFrame\n",
    "import pyprind\n",
    "import pandas as pd\n",
    "import os\n",
    "import sys\n",
    "\n",
    "basepath = 'dataset/aclImdb'\n",
    "\n",
    "# labels = {'pos': 1, 'neg': 0} # Binary classification\n",
    "# pbar = pyprind.ProgBar(50000, stream=sys.stdout) # Total number of reviews\n",
    "# df = pd.DataFrame()\n",
    "# for s in ('train', 'test'): # Iterate through train and test sets\n",
    "#     for l in ('pos', 'neg'): # Iterate through train and test sets, positive and negative labels\n",
    "#         path = os.path.join(basepath, s, l) # Path to the reviews\n",
    "#         for file in sorted(os.listdir(path)): # Iterate through files in the path\n",
    "#             with open(os.path.join(path, file), 'r', encoding='utf-8') as infile:\n",
    "#                 txt = infile.read() # Read the review text\n",
    "#             df = df.append([[txt, labels[l]]], ignore_index=True) # Append to DataFrame\n",
    "#             pbar.update()\n",
    "# df.columns = ['review', 'sentiment']\n",
    "\n",
    "# Label mapping: positive review = 1, negative review = 0\n",
    "labels = {'pos': 1, 'neg': 0}\n",
    "\n",
    "# Progress bar for 50,000 total reviews\n",
    "pbar = pyprind.ProgBar(50000, stream=sys.stdout)\n",
    "\n",
    "data = []  # List to hold tuples of (review text, sentiment label)\n",
    "\n",
    "# Loop through both 'test' and 'train' datasets\n",
    "for s in ('test', 'train'):\n",
    "    # Loop through 'pos' and 'neg' subfolders\n",
    "    for l in ('pos', 'neg'):\n",
    "        # Path to the specific sentiment folder\n",
    "        path = os.path.join(basepath, s, l)\n",
    "        \n",
    "        # Loop through all review files in sorted order\n",
    "        for file in sorted(os.listdir(path)):\n",
    "            with open(os.path.join(path, file), 'r', encoding='utf-8') as infile:\n",
    "                txt = infile.read()  # Read review text\n",
    "            \n",
    "            # Append the review text and label to DataFrame\n",
    "            # df = df.append([[txt, labels[l]]], ignore_index=True) # Depreciated append\n",
    "            # Instead of appending, we collect data in a list for efficiency\n",
    "            data.append((txt, labels[l]))\n",
    "            \n",
    "            # Update progress bar\n",
    "            pbar.update()\n",
    "\n",
    "# Create DataFrame once at the end\n",
    "df = pd.DataFrame(data, columns=['review', 'sentiment'])\n",
    "\n",
    "# Name the columns: review text and sentiment label\n",
    "df.columns = ['review', 'sentiment']"
   ]
  },
  {
   "cell_type": "code",
   "execution_count": 5,
   "id": "096b6fe0",
   "metadata": {},
   "outputs": [],
   "source": [
    "import numpy as np\n",
    "# Shuffle the DataFrame rows for randomness to split the dataset into train and test sets\n",
    "np.random.seed(0)\n",
    "df = df.reindex(np.random.permutation(df.index))\n",
    "df.to_csv('movie_data.csv', index=False, encoding='utf-8') # VFor conveenience, save to CSV"
   ]
  },
  {
   "cell_type": "code",
   "execution_count": 6,
   "id": "34bc5aef",
   "metadata": {},
   "outputs": [
    {
     "data": {
      "text/html": [
       "<div>\n",
       "<style scoped>\n",
       "    .dataframe tbody tr th:only-of-type {\n",
       "        vertical-align: middle;\n",
       "    }\n",
       "\n",
       "    .dataframe tbody tr th {\n",
       "        vertical-align: top;\n",
       "    }\n",
       "\n",
       "    .dataframe thead th {\n",
       "        text-align: right;\n",
       "    }\n",
       "</style>\n",
       "<table border=\"1\" class=\"dataframe\">\n",
       "  <thead>\n",
       "    <tr style=\"text-align: right;\">\n",
       "      <th></th>\n",
       "      <th>review</th>\n",
       "      <th>sentiment</th>\n",
       "    </tr>\n",
       "  </thead>\n",
       "  <tbody>\n",
       "    <tr>\n",
       "      <th>0</th>\n",
       "      <td>In 1974, the teenager Martha Moxley (Maggie Gr...</td>\n",
       "      <td>1</td>\n",
       "    </tr>\n",
       "    <tr>\n",
       "      <th>1</th>\n",
       "      <td>OK... so... I really like Kris Kristofferson a...</td>\n",
       "      <td>0</td>\n",
       "    </tr>\n",
       "    <tr>\n",
       "      <th>2</th>\n",
       "      <td>***SPOILER*** Do not read this, if you think a...</td>\n",
       "      <td>0</td>\n",
       "    </tr>\n",
       "  </tbody>\n",
       "</table>\n",
       "</div>"
      ],
      "text/plain": [
       "                                              review  sentiment\n",
       "0  In 1974, the teenager Martha Moxley (Maggie Gr...          1\n",
       "1  OK... so... I really like Kris Kristofferson a...          0\n",
       "2  ***SPOILER*** Do not read this, if you think a...          0"
      ]
     },
     "execution_count": 6,
     "metadata": {},
     "output_type": "execute_result"
    }
   ],
   "source": [
    "import pandas as pd\n",
    "# Make sure formatting is correct\n",
    "\n",
    "\n",
    "# Load the movie review dataset from CSV\n",
    "df = pd.read_csv('movie_data.csv', encoding='utf-8')\n",
    "\n",
    "# Rename columns in case they were saved as \"0\" and \"1\" instead of proper names\n",
    "df = df.rename(columns={\"0\": \"review\", \"1\": \"sentiment\"})\n",
    "\n",
    "# Display the first 3 rows\n",
    "df.head(3)"
   ]
  },
  {
   "cell_type": "code",
   "execution_count": 7,
   "id": "a9c3db33",
   "metadata": {},
   "outputs": [
    {
     "data": {
      "text/plain": [
       "(50000, 2)"
      ]
     },
     "execution_count": 7,
     "metadata": {},
     "output_type": "execute_result"
    }
   ],
   "source": [
    "# check that dataframe contains all 50000 reviews:\n",
    "df.shape"
   ]
  },
  {
   "cell_type": "markdown",
   "id": "77557dce",
   "metadata": {},
   "source": [
    "### Bag of Words Model"
   ]
  },
  {
   "cell_type": "code",
   "execution_count": 8,
   "id": "13fb331d",
   "metadata": {},
   "outputs": [],
   "source": [
    "# To construct a bag-of-words model, can use count vectorizer from sklearn, which takes array of text data and constructs a matrix of token counts\n",
    "from sklearn.feature_extraction.text import CountVectorizer\n",
    "# Create a CountVectorizer instance\n",
    "count = CountVectorizer()\n",
    "# example text data\n",
    "text = ['The sun is shining', 'The weather is sweet', 'The sun is shining and the weather is sweet']\n",
    "# Fit and transform the text data to create a bag-of-words model\n",
    "bag_of_words = count.fit_transform(text)"
   ]
  },
  {
   "cell_type": "code",
   "execution_count": 9,
   "id": "21575573",
   "metadata": {},
   "outputs": [
    {
     "name": "stdout",
     "output_type": "stream",
     "text": [
      "{'the': 5, 'sun': 3, 'is': 1, 'shining': 2, 'weather': 6, 'sweet': 4, 'and': 0}\n"
     ]
    }
   ],
   "source": [
    "print(count.vocabulary_)"
   ]
  },
  {
   "cell_type": "code",
   "execution_count": null,
   "id": "da006ef6",
   "metadata": {},
   "outputs": [
    {
     "name": "stdout",
     "output_type": "stream",
     "text": [
      "[[0 1 1 1 0 1 0]\n",
      " [0 1 0 0 1 1 1]\n",
      " [1 2 1 1 1 2 1]]\n"
     ]
    }
   ],
   "source": [
    "print(bag_of_words.toarray()) # This is also known as 1-gram model, where each word is a feature"
   ]
  },
  {
   "cell_type": "markdown",
   "id": "8f4a112b",
   "metadata": {},
   "source": [
    "###  term frequency-inverse document frequency (tf-idf)"
   ]
  },
  {
   "cell_type": "code",
   "execution_count": 13,
   "id": "e7b50c0d",
   "metadata": {},
   "outputs": [
    {
     "name": "stdout",
     "output_type": "stream",
     "text": [
      "[[0.   0.43 0.56 0.56 0.   0.43 0.  ]\n",
      " [0.   0.43 0.   0.   0.56 0.43 0.56]\n",
      " [0.4  0.48 0.31 0.31 0.31 0.48 0.31]]\n"
     ]
    }
   ],
   "source": [
    "# scikit-learn also provides a tf-idf transformer that can be used in conjunction with CountVectorizer to create a tf-idf representation of the text data\n",
    "from sklearn.feature_extraction.text import TfidfTransformer\n",
    "import numpy as np\n",
    "\n",
    "# Initialize the TF-IDF transformer\n",
    "# use_idf=True → use inverse document frequency\n",
    "# norm='l2' → normalize each vector to unit length\n",
    "# smooth_idf=True → add 1 to document frequencies to avoid division by zero\n",
    "tfidf = TfidfTransformer(use_idf=True, norm='l2', smooth_idf=True)\n",
    "\n",
    "# Set NumPy print options to show only 2 decimal places\n",
    "np.set_printoptions(precision=2)\n",
    "\n",
    "# Transform 'docs' into term-frequency matrix using 'count' (CountVectorizer),\n",
    "# then convert it to TF-IDF representation and print as an array\n",
    "print(tfidf.fit_transform(count.fit_transform(text)).toarray())"
   ]
  },
  {
   "cell_type": "markdown",
   "id": "f6329821",
   "metadata": {},
   "source": [
    "### Cleaning text data"
   ]
  },
  {
   "cell_type": "code",
   "execution_count": null,
   "id": "9f0ecbc4",
   "metadata": {},
   "outputs": [],
   "source": []
  }
 ],
 "metadata": {
  "kernelspec": {
   "display_name": ".conda",
   "language": "python",
   "name": "python3"
  },
  "language_info": {
   "codemirror_mode": {
    "name": "ipython",
    "version": 3
   },
   "file_extension": ".py",
   "mimetype": "text/x-python",
   "name": "python",
   "nbconvert_exporter": "python",
   "pygments_lexer": "ipython3",
   "version": "3.12.11"
  }
 },
 "nbformat": 4,
 "nbformat_minor": 5
}
