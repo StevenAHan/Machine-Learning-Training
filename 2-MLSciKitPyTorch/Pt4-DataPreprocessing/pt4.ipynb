{
 "cells": [
  {
   "cell_type": "markdown",
   "id": "3a9378c9",
   "metadata": {},
   "source": [
    "## Handling Numerical Missing Values"
   ]
  },
  {
   "cell_type": "code",
   "execution_count": 1,
   "id": "41b84bb5",
   "metadata": {},
   "outputs": [
    {
     "name": "stdout",
     "output_type": "stream",
     "text": [
      "      A     B     C    D\n",
      "0   1.0   2.0   3.0  4.0\n",
      "1   5.0   6.0   NaN  8.0\n",
      "2  10.0  11.0  12.0  NaN\n"
     ]
    }
   ],
   "source": [
    "# Load CSV data from a string into a pandas DataFrame, handling missing values.\n",
    "\n",
    "import pandas as pd\n",
    "from io import StringIO\n",
    "\n",
    "csv_data = '''A,B,C,D\n",
    "1.0,2.0,3.0,4.0\n",
    "5.0,6.0,,8.0\n",
    "10.0,11.0,12.0,'''\n",
    "\n",
    "# For Python 2.7, uncomment the following line:\n",
    "# csv_data = unicode(csv_data)\n",
    "\n",
    "df = pd.read_csv(StringIO(csv_data))\n",
    "print(df)"
   ]
  },
  {
   "cell_type": "code",
   "execution_count": 2,
   "id": "1c6460dd",
   "metadata": {},
   "outputs": [
    {
     "data": {
      "text/plain": [
       "A    0\n",
       "B    0\n",
       "C    1\n",
       "D    1\n",
       "dtype: int64"
      ]
     },
     "execution_count": 2,
     "metadata": {},
     "output_type": "execute_result"
    }
   ],
   "source": [
    "df.isnull().sum() # returns the count of missing values in each column"
   ]
  },
  {
   "cell_type": "markdown",
   "id": "c4c1a015",
   "metadata": {},
   "source": [
    "Note: when it comes to panda dataframes vs NumPy arrays, both are supported by Scikit-learn, but NumPy arrays are more mature and so it is recommended to use them. However, if you are more comfortable with pandas, you can use them as well."
   ]
  },
  {
   "cell_type": "markdown",
   "id": "6ddf70e3",
   "metadata": {},
   "source": [
    "### Deleting Missing Values"
   ]
  },
  {
   "cell_type": "code",
   "execution_count": 3,
   "id": "12f6f474",
   "metadata": {},
   "outputs": [
    {
     "data": {
      "text/html": [
       "<div>\n",
       "<style scoped>\n",
       "    .dataframe tbody tr th:only-of-type {\n",
       "        vertical-align: middle;\n",
       "    }\n",
       "\n",
       "    .dataframe tbody tr th {\n",
       "        vertical-align: top;\n",
       "    }\n",
       "\n",
       "    .dataframe thead th {\n",
       "        text-align: right;\n",
       "    }\n",
       "</style>\n",
       "<table border=\"1\" class=\"dataframe\">\n",
       "  <thead>\n",
       "    <tr style=\"text-align: right;\">\n",
       "      <th></th>\n",
       "      <th>A</th>\n",
       "      <th>B</th>\n",
       "      <th>C</th>\n",
       "      <th>D</th>\n",
       "    </tr>\n",
       "  </thead>\n",
       "  <tbody>\n",
       "    <tr>\n",
       "      <th>0</th>\n",
       "      <td>1.0</td>\n",
       "      <td>2.0</td>\n",
       "      <td>3.0</td>\n",
       "      <td>4.0</td>\n",
       "    </tr>\n",
       "  </tbody>\n",
       "</table>\n",
       "</div>"
      ],
      "text/plain": [
       "     A    B    C    D\n",
       "0  1.0  2.0  3.0  4.0"
      ]
     },
     "execution_count": 3,
     "metadata": {},
     "output_type": "execute_result"
    }
   ],
   "source": [
    "df.dropna(axis=0) # drops rows with any NaN values"
   ]
  },
  {
   "cell_type": "code",
   "execution_count": 4,
   "id": "51d25c1b",
   "metadata": {},
   "outputs": [
    {
     "data": {
      "text/html": [
       "<div>\n",
       "<style scoped>\n",
       "    .dataframe tbody tr th:only-of-type {\n",
       "        vertical-align: middle;\n",
       "    }\n",
       "\n",
       "    .dataframe tbody tr th {\n",
       "        vertical-align: top;\n",
       "    }\n",
       "\n",
       "    .dataframe thead th {\n",
       "        text-align: right;\n",
       "    }\n",
       "</style>\n",
       "<table border=\"1\" class=\"dataframe\">\n",
       "  <thead>\n",
       "    <tr style=\"text-align: right;\">\n",
       "      <th></th>\n",
       "      <th>A</th>\n",
       "      <th>B</th>\n",
       "    </tr>\n",
       "  </thead>\n",
       "  <tbody>\n",
       "    <tr>\n",
       "      <th>0</th>\n",
       "      <td>1.0</td>\n",
       "      <td>2.0</td>\n",
       "    </tr>\n",
       "    <tr>\n",
       "      <th>1</th>\n",
       "      <td>5.0</td>\n",
       "      <td>6.0</td>\n",
       "    </tr>\n",
       "    <tr>\n",
       "      <th>2</th>\n",
       "      <td>10.0</td>\n",
       "      <td>11.0</td>\n",
       "    </tr>\n",
       "  </tbody>\n",
       "</table>\n",
       "</div>"
      ],
      "text/plain": [
       "      A     B\n",
       "0   1.0   2.0\n",
       "1   5.0   6.0\n",
       "2  10.0  11.0"
      ]
     },
     "execution_count": 4,
     "metadata": {},
     "output_type": "execute_result"
    }
   ],
   "source": [
    "df.dropna(axis=1) # drops columns with any NaN values"
   ]
  },
  {
   "cell_type": "markdown",
   "id": "4276cca3",
   "metadata": {},
   "source": [
    "### Imputing Missing Values"
   ]
  },
  {
   "cell_type": "code",
   "execution_count": 5,
   "id": "06ec5f34",
   "metadata": {},
   "outputs": [
    {
     "data": {
      "text/plain": [
       "array([[ 1. ,  2. ,  3. ,  4. ],\n",
       "       [ 5. ,  6. ,  7.5,  8. ],\n",
       "       [10. , 11. , 12. ,  6. ]])"
      ]
     },
     "execution_count": 5,
     "metadata": {},
     "output_type": "execute_result"
    }
   ],
   "source": [
    "# Imputing missing values\n",
    "\n",
    "from sklearn.impute import SimpleImputer\n",
    "import numpy as np\n",
    "\n",
    "imr = SimpleImputer(missing_values=np.nan, strategy='mean')\n",
    "imr = imr.fit(df.values)\n",
    "imputed_data = imr.transform(df.values)\n",
    "imputed_data"
   ]
  },
  {
   "cell_type": "code",
   "execution_count": 6,
   "id": "a505bde1",
   "metadata": {},
   "outputs": [
    {
     "data": {
      "text/html": [
       "<div>\n",
       "<style scoped>\n",
       "    .dataframe tbody tr th:only-of-type {\n",
       "        vertical-align: middle;\n",
       "    }\n",
       "\n",
       "    .dataframe tbody tr th {\n",
       "        vertical-align: top;\n",
       "    }\n",
       "\n",
       "    .dataframe thead th {\n",
       "        text-align: right;\n",
       "    }\n",
       "</style>\n",
       "<table border=\"1\" class=\"dataframe\">\n",
       "  <thead>\n",
       "    <tr style=\"text-align: right;\">\n",
       "      <th></th>\n",
       "      <th>A</th>\n",
       "      <th>B</th>\n",
       "      <th>C</th>\n",
       "      <th>D</th>\n",
       "    </tr>\n",
       "  </thead>\n",
       "  <tbody>\n",
       "    <tr>\n",
       "      <th>0</th>\n",
       "      <td>1.0</td>\n",
       "      <td>2.0</td>\n",
       "      <td>3.0</td>\n",
       "      <td>4.0</td>\n",
       "    </tr>\n",
       "    <tr>\n",
       "      <th>1</th>\n",
       "      <td>5.0</td>\n",
       "      <td>6.0</td>\n",
       "      <td>7.5</td>\n",
       "      <td>8.0</td>\n",
       "    </tr>\n",
       "    <tr>\n",
       "      <th>2</th>\n",
       "      <td>10.0</td>\n",
       "      <td>11.0</td>\n",
       "      <td>12.0</td>\n",
       "      <td>6.0</td>\n",
       "    </tr>\n",
       "  </tbody>\n",
       "</table>\n",
       "</div>"
      ],
      "text/plain": [
       "      A     B     C    D\n",
       "0   1.0   2.0   3.0  4.0\n",
       "1   5.0   6.0   7.5  8.0\n",
       "2  10.0  11.0  12.0  6.0"
      ]
     },
     "execution_count": 6,
     "metadata": {},
     "output_type": "execute_result"
    }
   ],
   "source": [
    "df.fillna(df.mean()) # fills NaN values with the mean of each column"
   ]
  },
  {
   "cell_type": "markdown",
   "id": "f26c802d",
   "metadata": {},
   "source": [
    "## Handling Categorical Missing Values"
   ]
  },
  {
   "cell_type": "code",
   "execution_count": 7,
   "id": "50a294f9",
   "metadata": {},
   "outputs": [
    {
     "name": "stdout",
     "output_type": "stream",
     "text": [
      "   color size  price classlabel\n",
      "0  green    M   10.1     class2\n",
      "1    red    L   13.5     class1\n",
      "2   blue   XL   15.3     class2\n"
     ]
    }
   ],
   "source": [
    "# Make example dataframe with categorical data\n",
    "import pandas as pd\n",
    "\n",
    "df = pd.DataFrame([\n",
    "    ['green', 'M', 10.1, 'class2'],\n",
    "    ['red', 'L', 13.5, 'class1'],\n",
    "    ['blue', 'XL', 15.3, 'class2']\n",
    "])\n",
    "\n",
    "df.columns = ['color', 'size', 'price', 'classlabel']\n",
    "print(df)"
   ]
  },
  {
   "cell_type": "code",
   "execution_count": 8,
   "id": "79383abc",
   "metadata": {},
   "outputs": [
    {
     "name": "stdout",
     "output_type": "stream",
     "text": [
      "   color  size  price classlabel\n",
      "0  green     1   10.1     class2\n",
      "1    red     2   13.5     class1\n",
      "2   blue     3   15.3     class2\n"
     ]
    }
   ],
   "source": [
    "# Mapping ordinal features to numerical values\n",
    "size_mapping = {'XL': 3, 'L': 2, 'M': 1}\n",
    "df['size'] = df['size'].map(size_mapping)\n",
    "print(df)"
   ]
  },
  {
   "cell_type": "code",
   "execution_count": 9,
   "id": "f30e49a3",
   "metadata": {},
   "outputs": [
    {
     "data": {
      "text/plain": [
       "0     M\n",
       "1     L\n",
       "2    XL\n",
       "Name: size, dtype: object"
      ]
     },
     "execution_count": 9,
     "metadata": {},
     "output_type": "execute_result"
    }
   ],
   "source": [
    "# making a reverse mapping to convert numerical values back to original categories\n",
    "inv_size_mapping = {v: k for k, v in size_mapping.items()}\n",
    "df['size'].map(inv_size_mapping)"
   ]
  },
  {
   "cell_type": "code",
   "execution_count": 10,
   "id": "ea1221ac",
   "metadata": {},
   "outputs": [
    {
     "name": "stdout",
     "output_type": "stream",
     "text": [
      "{'class1': 0, 'class2': 1}\n"
     ]
    }
   ],
   "source": [
    "# Encoding class labels\n",
    "class_mapping = {label: idx for idx, label in enumerate(np.unique(df['classlabel']))}\n",
    "print(class_mapping)"
   ]
  },
  {
   "cell_type": "code",
   "execution_count": 11,
   "id": "8823265b",
   "metadata": {},
   "outputs": [
    {
     "name": "stdout",
     "output_type": "stream",
     "text": [
      "   color  size  price  classlabel\n",
      "0  green     1   10.1           1\n",
      "1    red     2   13.5           0\n",
      "2   blue     3   15.3           1\n"
     ]
    }
   ],
   "source": [
    "# Transform the labels to integers\n",
    "df['classlabel'] = df['classlabel'].map(class_mapping)\n",
    "print(df)"
   ]
  },
  {
   "cell_type": "code",
   "execution_count": 12,
   "id": "e0b960e6",
   "metadata": {},
   "outputs": [
    {
     "name": "stdout",
     "output_type": "stream",
     "text": [
      "   color  size  price classlabel\n",
      "0  green     1   10.1     class2\n",
      "1    red     2   13.5     class1\n",
      "2   blue     3   15.3     class2\n"
     ]
    }
   ],
   "source": [
    "# Create reverse mapping for class labels\n",
    "inv_class_mapping = {v: k for k, v in class_mapping.items()}\n",
    "df['classlabel'] = df['classlabel'].map(inv_class_mapping)\n",
    "print(df)"
   ]
  },
  {
   "cell_type": "code",
   "execution_count": 13,
   "id": "e2a406e7",
   "metadata": {},
   "outputs": [
    {
     "name": "stdout",
     "output_type": "stream",
     "text": [
      "[1 0 1]\n"
     ]
    }
   ],
   "source": [
    "# Alternatively, can use LabelEncoder\n",
    "from sklearn.preprocessing import LabelEncoder\n",
    "\n",
    "class_le = LabelEncoder()\n",
    "y = class_le.fit_transform(df['classlabel'].values)\n",
    "print(y)"
   ]
  },
  {
   "cell_type": "code",
   "execution_count": 14,
   "id": "cacbde85",
   "metadata": {},
   "outputs": [
    {
     "data": {
      "text/plain": [
       "array(['class2', 'class1', 'class2'], dtype=object)"
      ]
     },
     "execution_count": 14,
     "metadata": {},
     "output_type": "execute_result"
    }
   ],
   "source": [
    "# Reversing the transformation\n",
    "class_le.inverse_transform(y)"
   ]
  },
  {
   "cell_type": "markdown",
   "id": "044e97cd",
   "metadata": {},
   "source": [
    "### one-hot encoding on nominal features"
   ]
  },
  {
   "cell_type": "code",
   "execution_count": 15,
   "id": "b43f5894",
   "metadata": {},
   "outputs": [
    {
     "name": "stdout",
     "output_type": "stream",
     "text": [
      "[[1 1 10.1]\n",
      " [2 2 13.5]\n",
      " [0 3 15.3]]\n"
     ]
    }
   ],
   "source": [
    "# First convert color column to numerical values with LabelEncoder\n",
    "from sklearn.preprocessing import LabelEncoder\n",
    "X = df[['color', 'size', 'price']].values\n",
    "color_le = LabelEncoder()\n",
    "X[:, 0] = color_le.fit_transform(X[:, 0])\n",
    "print(X)"
   ]
  },
  {
   "cell_type": "code",
   "execution_count": 16,
   "id": "6c5e290c",
   "metadata": {},
   "outputs": [
    {
     "name": "stdout",
     "output_type": "stream",
     "text": [
      "[[0. 1. 0.]\n",
      " [0. 0. 1.]\n",
      " [1. 0. 0.]]\n"
     ]
    }
   ],
   "source": [
    "# Use OneHotEncoder to convert the 'color' column into one-hot encoded vectors.\n",
    "\n",
    "from sklearn.preprocessing import OneHotEncoder\n",
    "\n",
    "X = df[['color', 'size', 'price']].values\n",
    "color_ohe = OneHotEncoder()\n",
    "one_hot_encoded = color_ohe.fit_transform(X[:, 0].reshape(-1, 1)).toarray()\n",
    "print(one_hot_encoded)"
   ]
  },
  {
   "cell_type": "code",
   "execution_count": 17,
   "id": "53c6d34e",
   "metadata": {},
   "outputs": [
    {
     "name": "stdout",
     "output_type": "stream",
     "text": [
      "[[ 0.   1.   0.   1.  10.1]\n",
      " [ 0.   0.   1.   2.  13.5]\n",
      " [ 1.   0.   0.   3.  15.3]]\n"
     ]
    }
   ],
   "source": [
    "# Use ColumnTransformer to apply OneHotEncoder to the 'color' column\n",
    "# while passing through 'size' and 'price' columns unchanged.\n",
    "\n",
    "from sklearn.compose import ColumnTransformer\n",
    "from sklearn.preprocessing import OneHotEncoder\n",
    "\n",
    "X = df[['color', 'size', 'price']].values\n",
    "\n",
    "c_transf = ColumnTransformer([\n",
    "    ('onehot', OneHotEncoder(), [0]),   # One-hot encode 'color'\n",
    "    ('nothing', 'passthrough', [1, 2])  # Keep 'size' and 'price' as is\n",
    "])\n",
    "\n",
    "transformed_X = c_transf.fit_transform(X).astype(float)\n",
    "print(transformed_X)"
   ]
  },
  {
   "cell_type": "code",
   "execution_count": 20,
   "id": "a004768b",
   "metadata": {},
   "outputs": [
    {
     "name": "stdout",
     "output_type": "stream",
     "text": [
      "[[ 1.   0.   1.  10.1]\n",
      " [ 0.   1.   2.  13.5]\n",
      " [ 0.   0.   3.  15.3]]\n"
     ]
    }
   ],
   "source": [
    "# Use ColumnTransformer with OneHotEncoder to one-hot encode 'color',\n",
    "# dropping the first category to avoid multicollinearity,\n",
    "# while leaving 'size' and 'price' unchanged.\n",
    "\n",
    "from sklearn.preprocessing import OneHotEncoder\n",
    "from sklearn.compose import ColumnTransformer\n",
    "\n",
    "color_ohe = OneHotEncoder(categories='auto', drop='first')\n",
    "\n",
    "c_transf = ColumnTransformer([\n",
    "    ('onehot', color_ohe, [0]),        # One-hot encode 'color' (drop first category)\n",
    "    ('nothing', 'passthrough', [1, 2]) # Keep 'size' and 'price'\n",
    "])\n",
    "\n",
    "transformed_X = c_transf.fit_transform(X).astype(float)\n",
    "print(transformed_X)"
   ]
  },
  {
   "cell_type": "code",
   "execution_count": 18,
   "id": "077b11dd",
   "metadata": {},
   "outputs": [
    {
     "name": "stdout",
     "output_type": "stream",
     "text": [
      "   price  size  color_blue  color_green  color_red\n",
      "0   10.1     1       False         True      False\n",
      "1   13.5     2       False        False       True\n",
      "2   15.3     3        True        False      False\n"
     ]
    }
   ],
   "source": [
    "# Use pandas get_dummies to one-hot encode the 'color' and 'size' columns automatically,\n",
    "# while keeping the 'price' column unchanged.\n",
    "\n",
    "import pandas as pd\n",
    "\n",
    "one_hot_df = pd.get_dummies(df[['price', 'color', 'size']])\n",
    "print(one_hot_df)"
   ]
  },
  {
   "cell_type": "code",
   "execution_count": 19,
   "id": "1c3a8f20",
   "metadata": {},
   "outputs": [
    {
     "name": "stdout",
     "output_type": "stream",
     "text": [
      "   price  size  color_green  color_red\n",
      "0   10.1     1         True      False\n",
      "1   13.5     2        False       True\n",
      "2   15.3     3        False      False\n"
     ]
    }
   ],
   "source": [
    "# Use pandas get_dummies to one-hot encode 'color' and 'size' columns,\n",
    "# but drop the first category in each to avoid multicollinearity (dummy variable trap).\n",
    "\n",
    "import pandas as pd\n",
    "\n",
    "one_hot_df = pd.get_dummies(df[['price', 'color', 'size']], drop_first=True)\n",
    "print(one_hot_df)"
   ]
  },
  {
   "cell_type": "markdown",
   "id": "4233b203",
   "metadata": {},
   "source": [
    "### Encoding ordinal Features"
   ]
  },
  {
   "cell_type": "code",
   "execution_count": 21,
   "id": "79b4cb66",
   "metadata": {},
   "outputs": [
    {
     "name": "stdout",
     "output_type": "stream",
     "text": [
      "   color size  price classlabel\n",
      "0  green    M   10.1     class2\n",
      "1    red    L   13.5     class1\n",
      "2   blue   XL   15.3     class2\n"
     ]
    }
   ],
   "source": [
    "# Create a pandas DataFrame with categorical and numerical features, plus class labels.\n",
    "\n",
    "import pandas as pd\n",
    "\n",
    "df = pd.DataFrame([\n",
    "    ['green', 'M', 10.1, 'class2'],\n",
    "    ['red', 'L', 13.5, 'class1'],\n",
    "    ['blue', 'XL', 15.3, 'class2']\n",
    "])\n",
    "\n",
    "df.columns = ['color', 'size', 'price', 'classlabel']\n",
    "print(df)"
   ]
  },
  {
   "cell_type": "code",
   "execution_count": 22,
   "id": "b3d900c8",
   "metadata": {},
   "outputs": [
    {
     "name": "stdout",
     "output_type": "stream",
     "text": [
      "   color  price classlabel  x > M  x > L\n",
      "0  green   10.1     class2      0      0\n",
      "1    red   13.5     class1      1      0\n",
      "2   blue   15.3     class2      1      1\n"
     ]
    }
   ],
   "source": [
    "# Manually encode the 'size' column into binary features:\n",
    "# 'x > M' is 1 if size is L or XL, otherwise 0\n",
    "# 'x > L' is 1 if size is XL, otherwise 0\n",
    "# Then remove the original 'size' column.\n",
    "\n",
    "df['x > M'] = df['size'].apply(lambda x: 1 if x in {'L', 'XL'} else 0)\n",
    "df['x > L'] = df['size'].apply(lambda x: 1 if x == 'XL' else 0)\n",
    "del df['size']\n",
    "\n",
    "print(df)"
   ]
  },
  {
   "cell_type": "code",
   "execution_count": null,
   "id": "ae82cacd",
   "metadata": {},
   "outputs": [],
   "source": []
  },
  {
   "cell_type": "markdown",
   "id": "ba50767a",
   "metadata": {},
   "source": [
    "## Partitioning Dataset into Training and Test Sets"
   ]
  },
  {
   "cell_type": "code",
   "execution_count": 24,
   "id": "2e7492c4",
   "metadata": {},
   "outputs": [
    {
     "name": "stdout",
     "output_type": "stream",
     "text": [
      "Class labels: [1 2 3]\n",
      "   Class label  Alcohol  Malic acid   Ash  Alcalinity of ash  Magnesium  \\\n",
      "0            1    14.23        1.71  2.43               15.6        127   \n",
      "1            1    13.20        1.78  2.14               11.2        100   \n",
      "2            1    13.16        2.36  2.67               18.6        101   \n",
      "3            1    14.37        1.95  2.50               16.8        113   \n",
      "4            1    13.24        2.59  2.87               21.0        118   \n",
      "\n",
      "   Total phenols  Flavanoids  Nonflavanoid phenols  Proanthocyanins  \\\n",
      "0           2.80        3.06                  0.28             2.29   \n",
      "1           2.65        2.76                  0.26             1.28   \n",
      "2           2.80        3.24                  0.30             2.81   \n",
      "3           3.85        3.49                  0.24             2.18   \n",
      "4           2.80        2.69                  0.39             1.82   \n",
      "\n",
      "   Color intensity   Hue  OD280/OD315 of diluted wines  Proline  \n",
      "0             5.64  1.04                          3.92     1065  \n",
      "1             4.38  1.05                          3.40     1050  \n",
      "2             5.68  1.03                          3.17     1185  \n",
      "3             7.80  0.86                          3.45     1480  \n",
      "4             4.32  1.04                          2.93      735  \n"
     ]
    }
   ],
   "source": [
    "# Use wine dataset from UCI Machine Learning Repository for this example\n",
    "\n",
    "import pandas as pd\n",
    "import numpy as np\n",
    "\n",
    "df_wine = pd.read_csv(\n",
    "    'https://archive.ics.uci.edu/ml/machine-learning-databases/wine/wine.data',\n",
    "    header=None\n",
    ")\n",
    "\n",
    "df_wine.columns = [\n",
    "    'Class label', 'Alcohol', 'Malic acid', 'Ash',\n",
    "    'Alcalinity of ash', 'Magnesium', 'Total phenols',\n",
    "    'Flavanoids', 'Nonflavanoid phenols', 'Proanthocyanins',\n",
    "    'Color intensity', 'Hue',\n",
    "    'OD280/OD315 of diluted wines', 'Proline'\n",
    "]\n",
    "\n",
    "print('Class labels:', np.unique(df_wine['Class label']))\n",
    "print(df_wine.head())\n"
   ]
  },
  {
   "cell_type": "code",
   "execution_count": 25,
   "id": "2591c030",
   "metadata": {},
   "outputs": [],
   "source": [
    "# Split the Wine dataset into training and test sets (70/30 split),\n",
    "# ensuring class proportions are preserved with stratified sampling.\n",
    "\n",
    "from sklearn.model_selection import train_test_split\n",
    "\n",
    "X, y = df_wine.iloc[:, 1:].values, df_wine.iloc[:, 0].values\n",
    "\n",
    "X_train, X_test, y_train, y_test = train_test_split(\n",
    "    X, y,\n",
    "    test_size=0.3,\n",
    "    random_state=0,\n",
    "    stratify=y\n",
    ")"
   ]
  },
  {
   "cell_type": "markdown",
   "id": "f1153eb8",
   "metadata": {},
   "source": [
    "## Bringing Features onto Same Scale (Normalization/Standardization)"
   ]
  },
  {
   "cell_type": "code",
   "execution_count": null,
   "id": "4b893e9c",
   "metadata": {},
   "outputs": [],
   "source": [
    "# Apply normalization to the training and test sets\n",
    "\n",
    "from sklearn.preprocessing import MinMaxScaler\n",
    "\n",
    "mms = MinMaxScaler()\n",
    "X_train_norm = mms.fit_transform(X_train)  # Fit on training data and scale\n",
    "X_test_norm = mms.transform(X_test)        # Use same scaling on test data"
   ]
  },
  {
   "cell_type": "code",
   "execution_count": null,
   "id": "b86670d2",
   "metadata": {},
   "outputs": [],
   "source": [
    "# Apply standardization to the training and test sets\n",
    "\n",
    "from sklearn.preprocessing import StandardScaler\n",
    "\n",
    "stdsc = StandardScaler()\n",
    "X_train_std = stdsc.fit_transform(X_train)  # Fit on training data and scale\n",
    "X_test_std = stdsc.transform(X_test)        # Use same scaling on test data"
   ]
  },
  {
   "cell_type": "code",
   "execution_count": 27,
   "id": "e7201880",
   "metadata": {},
   "outputs": [
    {
     "name": "stdout",
     "output_type": "stream",
     "text": [
      "standardized: [-1.46385011 -0.87831007 -0.29277002  0.29277002  0.87831007  1.46385011]\n",
      "normalized: [0.  0.2 0.4 0.6 0.8 1. ]\n"
     ]
    }
   ],
   "source": [
    "# Difference between standardization and normalization:\n",
    "\n",
    "import numpy as np\n",
    "\n",
    "ex = np.array([0, 1, 2, 3, 4, 5])\n",
    "\n",
    "# Standardization: mean = 0, std = 1\n",
    "print('standardized:', (ex - ex.mean()) / ex.std())\n",
    "\n",
    "# Normalization: scale values into [0, 1]\n",
    "print('normalized:', (ex - ex.min()) / (ex.max() - ex.min()))"
   ]
  },
  {
   "cell_type": "markdown",
   "id": "f0a882bc",
   "metadata": {},
   "source": [
    "## Selecting Meaningful Features"
   ]
  },
  {
   "cell_type": "code",
   "execution_count": null,
   "id": "de64dd45",
   "metadata": {},
   "outputs": [],
   "source": []
  }
 ],
 "metadata": {
  "kernelspec": {
   "display_name": ".conda",
   "language": "python",
   "name": "python3"
  },
  "language_info": {
   "codemirror_mode": {
    "name": "ipython",
    "version": 3
   },
   "file_extension": ".py",
   "mimetype": "text/x-python",
   "name": "python",
   "nbconvert_exporter": "python",
   "pygments_lexer": "ipython3",
   "version": "3.12.11"
  }
 },
 "nbformat": 4,
 "nbformat_minor": 5
}
